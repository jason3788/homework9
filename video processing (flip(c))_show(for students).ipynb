{
 "cells": [
  {
   "cell_type": "code",
   "execution_count": null,
   "metadata": {
    "scrolled": true
   },
   "outputs": [
    {
     "data": {
      "text/plain": [
       "<Figure size 640x480 with 1 Axes>"
      ]
     },
     "metadata": {},
     "output_type": "display_data"
    }
   ],
   "source": [
    "#用 imshow 會在圖框裡呈現, 畫面較小\n",
    "import cv2\n",
    "import numpy as np\n",
    "import matplotlib.pyplot as plt\n",
    "from IPython.display import display, Image, clear_output\n",
    "\n",
    "cap = cv2.VideoCapture(\"something.mp4\") # Read the video\n",
    "\n",
    "while cap.isOpened():\n",
    "    ret, frame = cap.read()\n",
    "    if not ret:\n",
    "        break\n",
    "\n",
    "    frame = cv2.cvtColor(frame, cv2.COLOR_BGR2RGB)\n",
    "            \n",
    "    # Flip\n",
    "    frame_flip_lr = cv2.flip(frame, 1) ### left-right flip\n",
    "\n",
    "    # Display the original and flipped frames\n",
    "    combined_frame = np.hstack((frame, frame_flip_lr)) #horizontal_combine\n",
    "   \n",
    "    clear_output(wait=True)\n",
    "    plt.imshow(combined_frame)\n",
    "    plt.xticks([]),plt.yticks([])\n",
    "    plt.show()\n",
    "print(\"Processing complete.\")"
   ]
  }
 ],
 "metadata": {
  "kernelspec": {
   "display_name": "Python 3 (ipykernel)",
   "language": "python",
   "name": "python3"
  },
  "language_info": {
   "codemirror_mode": {
    "name": "ipython",
    "version": 3
   },
   "file_extension": ".py",
   "mimetype": "text/x-python",
   "name": "python",
   "nbconvert_exporter": "python",
   "pygments_lexer": "ipython3",
   "version": "3.11.3"
  }
 },
 "nbformat": 4,
 "nbformat_minor": 4
}
