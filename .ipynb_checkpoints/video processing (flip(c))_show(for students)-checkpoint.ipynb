{
 "cells": [
  {
   "cell_type": "code",
   "execution_count": null,
   "metadata": {
    "scrolled": true
   },
   "outputs": [
    {
     "data": {
      "text/plain": [
       "<Figure size 640x480 with 1 Axes>"
      ]
     },
     "metadata": {},
     "output_type": "display_data"
    }
   ],
   "source": [
    "#用 imshow 會在圖框裡呈現, 畫面較小\n",
    "import cv2\n",
    "import numpy as np\n",
    "import matplotlib.pyplot as plt\n",
    "from IPython.display import display, Image, clear_output\n",
    "\n",
    "cap = cv2.VideoCapture(\"something.mp4\") # Read the video\n",
    "\n",
    "while cap.isOpened():\n",
    "    ret, frame = cap.read()\n",
    "    if not ret:\n",
    "        break\n",
    "        \n",
    "    # inverse\n",
    "    frame_inverse = 255-frame\n",
    "\n",
    "    # Display the original and inverse frames\n",
    "    combined_frame = np.hstack((frame, frame_inverse)) #horizontal_combine\n",
    "    _, buffer = cv2.imencode('.jpg', combined_frame)\n",
    "    img = Image(data=buffer.tobytes())\n",
    "    clear_output(wait=True)\n",
    "    display(img)\n",
    "cap.release\n",
    "print(\"Processing complete.\")"
   ]
  }
 ],
 "metadata": {
  "kernelspec": {
   "display_name": "Python 3 (ipykernel)",
   "language": "python",
   "name": "python3"
  },
  "language_info": {
   "codemirror_mode": {
    "name": "ipython",
    "version": 3
   },
   "file_extension": ".py",
   "mimetype": "text/x-python",
   "name": "python",
   "nbconvert_exporter": "python",
   "pygments_lexer": "ipython3",
   "version": "3.11.3"
  }
 },
 "nbformat": 4,
 "nbformat_minor": 4
}
